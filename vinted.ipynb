{
 "cells": [
  {
   "cell_type": "code",
   "execution_count": 45,
   "metadata": {},
   "outputs": [
    {
     "name": "stdout",
     "output_type": "stream",
     "text": [
      "Requirement already satisfied: pyVinted in c:\\users\\ksama\\onedrive - universidade do porto\\documentos\\github\\python automation\\-\\lib\\site-packages (0.4.9)\n",
      "Requirement already satisfied: requests in c:\\users\\ksama\\onedrive - universidade do porto\\documentos\\github\\python automation\\-\\lib\\site-packages (from pyVinted) (2.32.3)\n",
      "Requirement already satisfied: charset-normalizer<4,>=2 in c:\\users\\ksama\\onedrive - universidade do porto\\documentos\\github\\python automation\\-\\lib\\site-packages (from requests->pyVinted) (3.3.2)\n",
      "Requirement already satisfied: idna<4,>=2.5 in c:\\users\\ksama\\onedrive - universidade do porto\\documentos\\github\\python automation\\-\\lib\\site-packages (from requests->pyVinted) (3.7)\n",
      "Requirement already satisfied: urllib3<3,>=1.21.1 in c:\\users\\ksama\\onedrive - universidade do porto\\documentos\\github\\python automation\\-\\lib\\site-packages (from requests->pyVinted) (2.2.1)\n",
      "Requirement already satisfied: certifi>=2017.4.17 in c:\\users\\ksama\\onedrive - universidade do porto\\documentos\\github\\python automation\\-\\lib\\site-packages (from requests->pyVinted) (2024.6.2)\n",
      "Collecting numpy\n",
      "  Downloading numpy-1.26.4-cp39-cp39-win_amd64.whl.metadata (61 kB)\n",
      "     ---------------------------------------- 0.0/61.0 kB ? eta -:--:--\n",
      "     ---------------------------------------- 61.0/61.0 kB 1.6 MB/s eta 0:00:00\n",
      "Downloading numpy-1.26.4-cp39-cp39-win_amd64.whl (15.8 MB)\n",
      "   ---------------------------------------- 0.0/15.8 MB ? eta -:--:--\n",
      "   ---------------------------------------- 0.2/15.8 MB 5.3 MB/s eta 0:00:03\n",
      "    --------------------------------------- 0.4/15.8 MB 4.6 MB/s eta 0:00:04\n",
      "   - -------------------------------------- 0.7/15.8 MB 5.2 MB/s eta 0:00:03\n",
      "   -- ------------------------------------- 0.9/15.8 MB 5.0 MB/s eta 0:00:04\n",
      "   -- ------------------------------------- 1.0/15.8 MB 4.5 MB/s eta 0:00:04\n",
      "   -- ------------------------------------- 1.0/15.8 MB 4.5 MB/s eta 0:00:04\n",
      "   --- ------------------------------------ 1.4/15.8 MB 4.4 MB/s eta 0:00:04\n",
      "   ---- ----------------------------------- 1.7/15.8 MB 4.8 MB/s eta 0:00:03\n",
      "   ----- ---------------------------------- 2.0/15.8 MB 4.9 MB/s eta 0:00:03\n",
      "   ----- ---------------------------------- 2.3/15.8 MB 5.1 MB/s eta 0:00:03\n",
      "   ------ --------------------------------- 2.6/15.8 MB 5.1 MB/s eta 0:00:03\n",
      "   ------- -------------------------------- 2.9/15.8 MB 5.3 MB/s eta 0:00:03\n",
      "   -------- ------------------------------- 3.2/15.8 MB 5.3 MB/s eta 0:00:03\n",
      "   -------- ------------------------------- 3.5/15.8 MB 5.4 MB/s eta 0:00:03\n",
      "   --------- ------------------------------ 3.8/15.8 MB 5.6 MB/s eta 0:00:03\n",
      "   ---------- ----------------------------- 4.2/15.8 MB 5.7 MB/s eta 0:00:03\n",
      "   ----------- ---------------------------- 4.4/15.8 MB 5.7 MB/s eta 0:00:03\n",
      "   ----------- ---------------------------- 4.6/15.8 MB 5.6 MB/s eta 0:00:02\n",
      "   ------------ --------------------------- 4.9/15.8 MB 5.6 MB/s eta 0:00:02\n",
      "   ------------- -------------------------- 5.2/15.8 MB 5.6 MB/s eta 0:00:02\n",
      "   -------------- ------------------------- 5.6/15.8 MB 5.8 MB/s eta 0:00:02\n",
      "   -------------- ------------------------- 5.9/15.8 MB 5.8 MB/s eta 0:00:02\n",
      "   --------------- ------------------------ 6.2/15.8 MB 5.8 MB/s eta 0:00:02\n",
      "   ---------------- ----------------------- 6.5/15.8 MB 5.9 MB/s eta 0:00:02\n",
      "   ---------------- ----------------------- 6.7/15.8 MB 5.8 MB/s eta 0:00:02\n",
      "   ------------------ --------------------- 7.1/15.8 MB 5.9 MB/s eta 0:00:02\n",
      "   ------------------ --------------------- 7.4/15.8 MB 5.9 MB/s eta 0:00:02\n",
      "   ------------------- -------------------- 7.7/15.8 MB 6.0 MB/s eta 0:00:02\n",
      "   -------------------- ------------------- 8.1/15.8 MB 6.0 MB/s eta 0:00:02\n",
      "   --------------------- ------------------ 8.4/15.8 MB 6.0 MB/s eta 0:00:02\n",
      "   --------------------- ------------------ 8.7/15.8 MB 6.0 MB/s eta 0:00:02\n",
      "   ---------------------- ----------------- 9.1/15.8 MB 6.1 MB/s eta 0:00:02\n",
      "   ----------------------- ---------------- 9.4/15.8 MB 6.1 MB/s eta 0:00:02\n",
      "   ------------------------- -------------- 10.2/15.8 MB 6.2 MB/s eta 0:00:01\n",
      "   -------------------------- ------------- 10.5/15.8 MB 6.2 MB/s eta 0:00:01\n",
      "   --------------------------- ------------ 10.8/15.8 MB 6.3 MB/s eta 0:00:01\n",
      "   ---------------------------- ----------- 11.1/15.8 MB 6.4 MB/s eta 0:00:01\n",
      "   ---------------------------- ----------- 11.4/15.8 MB 6.7 MB/s eta 0:00:01\n",
      "   ----------------------------- ---------- 11.8/15.8 MB 6.7 MB/s eta 0:00:01\n",
      "   ------------------------------ --------- 12.0/15.8 MB 6.6 MB/s eta 0:00:01\n",
      "   ------------------------------- -------- 12.4/15.8 MB 6.6 MB/s eta 0:00:01\n",
      "   -------------------------------- ------- 12.7/15.8 MB 6.6 MB/s eta 0:00:01\n",
      "   --------------------------------- ------ 13.2/15.8 MB 6.7 MB/s eta 0:00:01\n",
      "   ---------------------------------- ----- 13.5/15.8 MB 6.7 MB/s eta 0:00:01\n",
      "   ---------------------------------- ----- 13.7/15.8 MB 6.7 MB/s eta 0:00:01\n",
      "   ----------------------------------- ---- 13.9/15.8 MB 6.6 MB/s eta 0:00:01\n",
      "   ------------------------------------ --- 14.4/15.8 MB 6.6 MB/s eta 0:00:01\n",
      "   ------------------------------------- -- 14.7/15.8 MB 6.7 MB/s eta 0:00:01\n",
      "   -------------------------------------- - 15.0/15.8 MB 6.8 MB/s eta 0:00:01\n",
      "   -------------------------------------- - 15.4/15.8 MB 6.9 MB/s eta 0:00:01\n",
      "   ---------------------------------------  15.7/15.8 MB 6.7 MB/s eta 0:00:01\n",
      "   ---------------------------------------  15.8/15.8 MB 6.7 MB/s eta 0:00:01\n",
      "   ---------------------------------------  15.8/15.8 MB 6.7 MB/s eta 0:00:01\n",
      "   ---------------------------------------- 15.8/15.8 MB 6.4 MB/s eta 0:00:00\n",
      "Installing collected packages: numpy\n",
      "Successfully installed numpy-1.26.4\n"
     ]
    }
   ],
   "source": [
    "!pip install pyVinted\n",
    "!pip install numpy"
   ]
  },
  {
   "cell_type": "code",
   "execution_count": 70,
   "metadata": {},
   "outputs": [],
   "source": [
    "import numpy as np\n",
    "from pyVinted import Vinted\n",
    "from datetime import datetime\n",
    "import csv"
   ]
  },
  {
   "cell_type": "code",
   "execution_count": 80,
   "metadata": {},
   "outputs": [],
   "source": [
    "vinted = Vinted()\n",
    "\n",
    "# search(url, number_of_items, page_number)\n",
    "items = vinted.items.search(\"https://www.vinted.pt/catalog?search_text=jordan%204%20bred\",100,1)\n",
    "#returns a list of objects: item"
   ]
  },
  {
   "cell_type": "code",
   "execution_count": 81,
   "metadata": {},
   "outputs": [
    {
     "name": "stdout",
     "output_type": "stream",
     "text": [
      "Title: Jordan 4 retro bred reimagined, Price: 225.0\n",
      "Title: Jordan 4 bred reimagined, Price: 225.0\n",
      "Title: Jordan 4 rétro Bred Reimagined, Price: 250.0\n",
      "Title: Jordan 4 bred 2019 retro, Price: 380.0\n",
      "Title: Jordan 4 Bred Reimagined, Price: 165.0\n",
      "Title: Air Jordan 4 rétro bred, Price: 60.0\n",
      "Title: Air Jordan 4 Bred Reimagined, Price: 280.0\n",
      "Title: Jordan 4 rétro bred Reimagined, Price: 300.0\n",
      "Title: Jordan 4 Bred Reimagined, Price: 229.0\n",
      "Title: Air Jordan 4 Bred Reimagined, Price: 219.0\n",
      "Title: Jordan 4 bred reimagined, Price: 225.0\n",
      "Title: Nike Jordan 4 Bred, Price: 250.0\n",
      "Title: Air Jordan 4 Bred Reimagined, Price: 250.0\n",
      "Title: Jordan 4 Retro Reimagined Bred, Price: 250.0\n",
      "Title: Jordan 4 “Bred reimagined”, Price: 220.0\n",
      "Title: Jordan 4 bred reimagined, Price: 230.0\n",
      "Title: Jordan 4 retro bred reimagined, Price: 190.0\n",
      "Title: Jordan 4 golf bred, Price: 65.0\n",
      "Title: Nike Air Jordan 4 Bred, Price: 185.0\n",
      "Title: Air Jordan Retro 4 “Bred”, Price: 180.0\n",
      "Title: Jordan 4 retro bred reimagined, Price: 240.0\n",
      "Title: Jordan 4, Price: 40.0\n",
      "Title: Jordan 4 Bred Reimagined, Price: 230.0\n",
      "Title: Nike Jordan 4 Bred Reimagined, Price: 260.0\n",
      "Title: Jordan 4 Bred Reimagined, Price: 250.0\n",
      "Title: Jordan 4 Bred 2019, Price: 200.0\n",
      "Title: Air Jordan 4, Price: 185.0\n",
      "Title: Jordan 4 bred, Price: 250.0\n",
      "Title: Jordan 4 Bred Reimagined, Price: 200.0\n",
      "Title: Jordan 4 bred reimagined, Price: 225.0\n",
      "Title: Jordan 4 Retro Bred Reimagined, Price: 299.0\n",
      "Title: Jordan 4 Bred Reimagined, Price: 270.0\n",
      "Title: Jordan 4, Price: 70.0\n",
      "Title: Jordan 4 bred 2018, Price: 150.0\n",
      "Title: Jordan 4 Bred Reimagined (2024), Price: 230.0\n",
      "Title: Nike Air Jordan 4 - Bred Reimagined (Size 10.5US), Price: 170.0\n",
      "Title: jordan 4 bred, Price: 250.0\n",
      "Title: Jordan 4 bred reimagined, Price: 250.0\n",
      "Title: Jordan 4 bred, Price: 95.0\n",
      "Title: Jordan 4 retro bred, Price: 220.0\n",
      "Title: Jordan 4 BRED Retro OG 40, Price: 200.0\n",
      "Title: Jordan 4 Bred reimagined, Price: 220.0\n",
      "Title: Jordan 4 bred GS 7Y(40EU) 2019, Price: 170.0\n",
      "Title: Jordan 4, Price: 170.0\n",
      "Title: Jordan 4 Bred Reimagined, Price: 210.0\n",
      "Title: Jordan 4 retro bred, Price: 210.0\n",
      "Title: Jordan 4 bred t-43, Price: 320.0\n",
      "Title: Jordan 4 Bred reimagined, Price: 199.0\n",
      "Title: Jordan 4 rétro bred, Price: 150.0\n",
      "Title: Jordan 4 bred 2019, Price: 250.0\n",
      "Title: Air Jordan 4, Price: 35.0\n",
      "Title: Basket Jordan 4 bred reimagined, Price: 250.0\n",
      "Title: Jordan 4 Bred Reimagined, Price: 260.0\n",
      "Title: Basket Air Jordan 1 Retro High Bred Toe, Price: 60.0\n",
      "Title: Jordan 4 bred reimagined, Price: 230.0\n",
      "Title: Jordan 4 retro bred 2019, Price: 485.0\n",
      "Title: Jordan 4 BRED leather, Price: 220.0\n",
      "Title: Jordan 4 bred reimaginated, Price: 230.0\n",
      "Title: jordan 4, Price: 200.0\n",
      "Title: Jordan 4 Bred Reimagined, Price: 245.0\n",
      "Title: Jordan 4 bred, Price: 50.0\n",
      "Title: Jordan 4 Bred Reimagined, Price: 225.0\n",
      "Title: Air Jordan 4 Bred maat 38,5, Price: 200.0\n",
      "Title: Jordan 4 Bred Reimagined, Price: 235.0\n",
      "Title: Jordan 4 bred 46, Price: 250.0\n",
      "Title: Jordan 4 rétro Bred Reimagined, Price: 300.0\n",
      "Title: Jordan 4 bred, Price: 230.0\n",
      "Title: Jordan 1 Low « Reverse Bred » 2020 pointure 37.5, Price: 65.0\n",
      "Title: Air Jordan 4 Retro Bred Reimagined Taille 44, Price: 270.0\n",
      "Title: Jordan 4 Bred Reimagined 43, Price: 245.0\n",
      "Title: Jordan 4 rétro bred , Price: 50.0\n",
      "Title: Air Jordan 4 retro Bred, Price: 60.0\n",
      "Title: Jordan 4  retro bred , Price: 40.0\n",
      "Title: Jordan 1 Mid « Green Toe » 2019 pointure 38, Price: 85.0\n",
      "Title: Jordan 4 bred reimagined 38, Price: 180.0\n",
      "Title: Jordan 4 bred, Price: 250.0\n",
      "Title: Jordan 4 Bred , Price: 35.0\n",
      "Title: Jordan 4 bred reimagined size 11/45 eu, Price: 210.0\n",
      "Title: Jordan 4 bred reimagined, Price: 230.0\n",
      "Title: Jordan 4 bred gs, Price: 65.0\n",
      "Title: Jordan 4 Retro Bred Reimagined (2024), Price: 200.0\n",
      "Title: Jordan 1 Low « Reverse Bred » 2020 pointure 38.5, Price: 65.0\n",
      "Title: jordan 4 OG “ Bred “, Price: 280.0\n",
      "Title: Jordan 4 bred, Price: 250.0\n",
      "Title: Jordan 4 rétro bred, Price: 155.0\n",
      "Title: Air Jordan 4 Retro Bred Reimagined, Price: 310.0\n",
      "Title: Jordan 4 golf bred, Price: 70.0\n",
      "Title: Jordan 4 Bred Reimagined, Price: 240.0\n",
      "Title: Air Jordan 4 Retro Bred 2019, Price: 300.0\n",
      "Title: Jordan 4 bred golf, Price: 85.0\n",
      "Title: Jordan 4 Bred Reimagined 38, Price: 160.0\n",
      "Title: Air Jordan 4 Retro Bred, Price: 210.0\n",
      "Title: Jordan 4 bred, Price: 230.0\n",
      "Title: Jordan 4, Price: 220.0\n",
      "Title: Jordan 4 retro bred reimagined, Price: 245.0\n",
      "Title: JORDAN 4 Retro Bred Reimagined, Price: 220.0\n",
      "Title: Jordan 4 golf bred, Price: 95.0\n",
      "Title: Basket Jordan 4 rétro Bred Reimagined neuve avec boîte, Price: 200.0\n",
      "Title: Jordan Retro 4 Bred 2008, Price: 70.0\n"
     ]
    }
   ],
   "source": [
    "for item in items:\n",
    "    print(f\"Title: {item.title}, Price: {item.price}\")\n"
   ]
  },
  {
   "cell_type": "code",
   "execution_count": 82,
   "metadata": {},
   "outputs": [],
   "source": [
    "import numpy as np  \n",
    "\n",
    "# Convert the list of item prices to a NumPy array, ensuring prices are floats\n",
    "prices = np.array([float(item.price) for item in items])\n"
   ]
  },
  {
   "cell_type": "code",
   "execution_count": 86,
   "metadata": {},
   "outputs": [],
   "source": [
    "def remove_outliers(prices, m=1):\n",
    "    data = np.array(prices)\n",
    "    return data[abs(data - np.mean(data)) < m * np.std(data)]"
   ]
  },
  {
   "cell_type": "code",
   "execution_count": 83,
   "metadata": {},
   "outputs": [],
   "source": [
    "def get_average(prices):\n",
    "    return np.mean(prices)"
   ]
  },
  {
   "cell_type": "code",
   "execution_count": 84,
   "metadata": {},
   "outputs": [],
   "source": [
    "def save_to_file(prices):\n",
    "    fields=[datetime.today().strftime(\"%B-%D-%Y\"),np.around(get_average(prices),2)]\n",
    "    with open('prices.csv', 'a', newline='') as f:\n",
    "        writer = csv.writer(f)\n",
    "        writer.writerow(fields)"
   ]
  },
  {
   "cell_type": "code",
   "execution_count": 93,
   "metadata": {},
   "outputs": [],
   "source": [
    "save_to_file(remove_outliers(prices))\n"
   ]
  },
  {
   "cell_type": "code",
   "execution_count": null,
   "metadata": {},
   "outputs": [],
   "source": []
  }
 ],
 "metadata": {
  "kernelspec": {
   "display_name": "-",
   "language": "python",
   "name": "python3"
  },
  "language_info": {
   "codemirror_mode": {
    "name": "ipython",
    "version": 3
   },
   "file_extension": ".py",
   "mimetype": "text/x-python",
   "name": "python",
   "nbconvert_exporter": "python",
   "pygments_lexer": "ipython3",
   "version": "3.9.13"
  }
 },
 "nbformat": 4,
 "nbformat_minor": 2
}
